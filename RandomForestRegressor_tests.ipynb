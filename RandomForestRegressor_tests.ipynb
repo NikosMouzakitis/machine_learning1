{
 "cells": [
  {
   "cell_type": "code",
   "execution_count": 124,
   "id": "c1c075e0-7e44-4c73-9d41-1dbb8b405a96",
   "metadata": {},
   "outputs": [],
   "source": [
    "import sklearn\n",
    "import matplotlib.pyplot as plt\n",
    "from sklearn.ensemble import RandomForestRegressor\n",
    "import pandas as pd\n",
    "from sklearn.model_selection import train_test_split\n",
    "from sklearn.metrics import mean_absolute_error"
   ]
  },
  {
   "cell_type": "code",
   "execution_count": 117,
   "id": "5c24554b-d5c6-48c5-b6b3-929505a36b9e",
   "metadata": {},
   "outputs": [],
   "source": [
    "df = pd.read_csv(\"winequality-red.csv\")"
   ]
  },
  {
   "cell_type": "code",
   "execution_count": 126,
   "id": "26676652-8dc0-4dc3-9836-68f15dd845df",
   "metadata": {},
   "outputs": [],
   "source": [
    "#feature_names = ['fixed acidity','volatile acidity','citric acid','residual sugar','chlorides','free sulfur dioxide','total sulfur dioxide','density','pH','sulphates','alcohol']\n",
    "feature_names = ['fixed acidity','volatile acidity','citric acid']"
   ]
  },
  {
   "cell_type": "code",
   "execution_count": 127,
   "id": "d067aadb-b427-4667-ad2d-67b758362a8f",
   "metadata": {},
   "outputs": [],
   "source": [
    "X=df[feature_names]\n",
    "y=df['quality']\n",
    "#y = df.quality\n",
    "\n",
    "train_X, test_X, train_y, test_y = train_test_split(X,y,random_state=1)"
   ]
  },
  {
   "cell_type": "code",
   "execution_count": 138,
   "id": "f0842c46-d392-4554-ab9c-28591231741c",
   "metadata": {},
   "outputs": [
    {
     "name": "stdout",
     "output_type": "stream",
     "text": [
      "Validation MAE: 0.537878\n",
      "Correct 235   over 400\n"
     ]
    }
   ],
   "source": [
    "#specification of the model\n",
    "model=RandomForestRegressor(random_state=1)\n",
    "#fit model\n",
    "model.fit(train_X,train_y)\n",
    "\n",
    "model_validation=model.predict(test_X)\n",
    "\n",
    "val_mae = mean_absolute_error(model_validation,test_y)\n",
    "print(\"Validation MAE: %f\"%(val_mae))\n",
    "\n",
    "tot = len(test_y)\n",
    "count = 0\n",
    "# to be able to tested in the loop.\n",
    "list_test_y = test_y.to_list()\n",
    "# to convert decimals into integers.\n",
    "rounded_model_validation = model_validation.round()\n",
    "\n",
    "for i in range(0,tot):\n",
    "    if(rounded_model_validation[i] == list_test_y[i]):\n",
    "        count+=1\n",
    "print(\"Correct %d   over %d\"%(count,tot))"
   ]
  },
  {
   "cell_type": "code",
   "execution_count": null,
   "id": "5d27a44d-8eb6-44af-8ca2-732c6ccac323",
   "metadata": {},
   "outputs": [],
   "source": []
  }
 ],
 "metadata": {
  "kernelspec": {
   "display_name": "Python 3 (ipykernel)",
   "language": "python",
   "name": "python3"
  },
  "language_info": {
   "codemirror_mode": {
    "name": "ipython",
    "version": 3
   },
   "file_extension": ".py",
   "mimetype": "text/x-python",
   "name": "python",
   "nbconvert_exporter": "python",
   "pygments_lexer": "ipython3",
   "version": "3.9.10"
  }
 },
 "nbformat": 4,
 "nbformat_minor": 5
}
