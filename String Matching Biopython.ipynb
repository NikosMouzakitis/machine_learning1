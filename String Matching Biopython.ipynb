{
 "cells": [
  {
   "cell_type": "code",
   "execution_count": 6,
   "id": "35111133-947f-4f86-ab79-270437022416",
   "metadata": {},
   "outputs": [],
   "source": [
    "from Bio.Seq import Seq\n",
    "from Bio import SeqUtils\n",
    "\n",
    "pattern = Seq(\"ACG\")\n",
    "sequence = Seq(\"ATGCGCGACGGCGTGATCAGCTTATAGCCGTACGACTGCTGCAACGTGACTGAT\")\n"
   ]
  },
  {
   "cell_type": "markdown",
   "id": "568a8d36-a19a-45a3-bda8-105d42f24e06",
   "metadata": {},
   "source": [
    "# USE NT_SEARCH to forward strand and reverse complement"
   ]
  },
  {
   "cell_type": "code",
   "execution_count": 7,
   "id": "cc68c13d-ee76-4a3b-b147-c2a7a7ef007c",
   "metadata": {},
   "outputs": [
    {
     "name": "stdout",
     "output_type": "stream",
     "text": [
      "['ACG', 7, 31, 43]\n"
     ]
    }
   ],
   "source": [
    "\n",
    "results = SeqUtils.nt_search(str(sequence), pattern)\n",
    "\n",
    "print(results)"
   ]
  },
  {
   "cell_type": "code",
   "execution_count": 9,
   "id": "6d6f4417-ef70-402f-9dad-f6e60728e636",
   "metadata": {},
   "outputs": [
    {
     "name": "stdout",
     "output_type": "stream",
     "text": [
      "['CGT', 11, 28, 44]\n"
     ]
    }
   ],
   "source": [
    "results_rc = SeqUtils.nt_search(str(sequence),pattern.reverse_complement())\n",
    "print(results_rc)"
   ]
  },
  {
   "cell_type": "code",
   "execution_count": null,
   "id": "2468c309-d960-47b4-975a-c7b2fce063e3",
   "metadata": {},
   "outputs": [],
   "source": []
  }
 ],
 "metadata": {
  "kernelspec": {
   "display_name": "Python 3 (ipykernel)",
   "language": "python",
   "name": "python3"
  },
  "language_info": {
   "codemirror_mode": {
    "name": "ipython",
    "version": 3
   },
   "file_extension": ".py",
   "mimetype": "text/x-python",
   "name": "python",
   "nbconvert_exporter": "python",
   "pygments_lexer": "ipython3",
   "version": "3.9.10"
  }
 },
 "nbformat": 4,
 "nbformat_minor": 5
}
