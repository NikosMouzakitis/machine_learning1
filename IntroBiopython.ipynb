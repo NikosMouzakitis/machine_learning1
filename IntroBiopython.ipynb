{
 "cells": [
  {
   "cell_type": "code",
   "execution_count": 70,
   "id": "81f700a6-e299-45c6-93fc-7963dba0a524",
   "metadata": {},
   "outputs": [],
   "source": [
    "from Bio.Seq import Seq"
   ]
  },
  {
   "cell_type": "code",
   "execution_count": 71,
   "id": "2c425cb5-4fe2-482e-af1e-d9d953bdfcf3",
   "metadata": {},
   "outputs": [],
   "source": [
    "DNA=Seq(\"ATGCTGGGATATTGA\")"
   ]
  },
  {
   "cell_type": "code",
   "execution_count": 72,
   "id": "5e860a9c-ccf9-4f48-9e82-607e84e91c03",
   "metadata": {},
   "outputs": [
    {
     "data": {
      "text/plain": [
       "Seq('ATGCTGGGATATTGA')"
      ]
     },
     "execution_count": 72,
     "metadata": {},
     "output_type": "execute_result"
    }
   ],
   "source": [
    "DNA"
   ]
  },
  {
   "cell_type": "code",
   "execution_count": 73,
   "id": "1baaeef0-3477-4f97-9367-17a4c518bf9f",
   "metadata": {},
   "outputs": [],
   "source": [
    "mrnA=DNA.transcribe()"
   ]
  },
  {
   "cell_type": "code",
   "execution_count": 74,
   "id": "78bf903e-1ab0-42d1-a3c9-fb1b7463fa0c",
   "metadata": {},
   "outputs": [
    {
     "data": {
      "text/plain": [
       "Seq('AUGCUGGGAUAUUGA')"
      ]
     },
     "execution_count": 74,
     "metadata": {},
     "output_type": "execute_result"
    }
   ],
   "source": [
    "mrnA"
   ]
  },
  {
   "cell_type": "code",
   "execution_count": 75,
   "id": "5a69c096-e2bf-4333-b886-a4c91a609f6c",
   "metadata": {},
   "outputs": [],
   "source": [
    "protein=mrnA.translate()"
   ]
  },
  {
   "cell_type": "code",
   "execution_count": 76,
   "id": "6dfdcdcf-9776-4fbf-8e30-cfe6b6353239",
   "metadata": {},
   "outputs": [
    {
     "data": {
      "text/plain": [
       "Seq('MLGY*')"
      ]
     },
     "execution_count": 76,
     "metadata": {},
     "output_type": "execute_result"
    }
   ],
   "source": [
    "protein"
   ]
  },
  {
   "cell_type": "code",
   "execution_count": 77,
   "id": "c2323d66-1f01-468f-81e5-2e48f47802b7",
   "metadata": {},
   "outputs": [],
   "source": [
    "from Bio.SeqUtils import GC"
   ]
  },
  {
   "cell_type": "code",
   "execution_count": 78,
   "id": "d485acfa-d4d9-4f2f-8432-bcf005836af7",
   "metadata": {},
   "outputs": [
    {
     "name": "stderr",
     "output_type": "stream",
     "text": [
      "/home/nicko/miniforge3/lib/python3.9/site-packages/Bio/SeqUtils/__init__.py:144: BiopythonDeprecationWarning: GC is deprecated; please use gc_fraction instead.\n",
      "  warnings.warn(\n"
     ]
    },
    {
     "data": {
      "text/plain": [
       "40.0"
      ]
     },
     "execution_count": 78,
     "metadata": {},
     "output_type": "execute_result"
    }
   ],
   "source": [
    "GC(DNA)"
   ]
  },
  {
   "cell_type": "code",
   "execution_count": 79,
   "id": "1fd92ae7-c735-4aec-8a3d-0d673e8ac608",
   "metadata": {},
   "outputs": [],
   "source": [
    "from Bio import SeqIO"
   ]
  },
  {
   "cell_type": "code",
   "execution_count": 80,
   "id": "8f63951a-5d1c-472d-8187-4aaa6c93fe49",
   "metadata": {},
   "outputs": [],
   "source": [
    "fastaFile = \"fasta_test.fa\"\n",
    "sequences=SeqIO.parse(open(fastaFile),'fasta')"
   ]
  },
  {
   "cell_type": "code",
   "execution_count": 81,
   "id": "f121e84b-d507-4fe2-9ab2-301eaeed7e45",
   "metadata": {},
   "outputs": [
    {
     "name": "stdout",
     "output_type": "stream",
     "text": [
      "ACGCGTACGTGACGACGATCG\n",
      "ATTTCGCGACTCTGCCTACGCTAC\n",
      "GGGAAACCTTTTTTT\n"
     ]
    }
   ],
   "source": [
    "list_seq = []\n",
    "for rec in sequences:\n",
    "    print(rec.seq)\n",
    "    list_seq.append(rec.seq)"
   ]
  },
  {
   "cell_type": "code",
   "execution_count": 82,
   "id": "8b9abe83-6a8e-4f0c-b96c-8a5656a858ce",
   "metadata": {},
   "outputs": [
    {
     "name": "stdout",
     "output_type": "stream",
     "text": [
      "[Seq('ACGCGTACGTGACGACGATCG'), Seq('ATTTCGCGACTCTGCCTACGCTAC'), Seq('GGGAAACCTTTTTTT')]\n"
     ]
    }
   ],
   "source": [
    "print(list_seq)"
   ]
  },
  {
   "cell_type": "code",
   "execution_count": null,
   "id": "c540d793-16cd-4402-b503-8883990f4296",
   "metadata": {},
   "outputs": [],
   "source": []
  }
 ],
 "metadata": {
  "kernelspec": {
   "display_name": "Python 3 (ipykernel)",
   "language": "python",
   "name": "python3"
  },
  "language_info": {
   "codemirror_mode": {
    "name": "ipython",
    "version": 3
   },
   "file_extension": ".py",
   "mimetype": "text/x-python",
   "name": "python",
   "nbconvert_exporter": "python",
   "pygments_lexer": "ipython3",
   "version": "3.9.10"
  }
 },
 "nbformat": 4,
 "nbformat_minor": 5
}
